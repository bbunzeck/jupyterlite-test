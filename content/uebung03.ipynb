{
 "cells": [
  {
   "cell_type": "markdown",
   "id": "71a8ee00",
   "metadata": {},
   "source": [
    "# Übung 3\n",
    "\n",
    "In dieser Übung geht es darum, Operationen (Indizieren, Slicing, etc.) auf Strings und einfache reguläre Ausdrücke zu verstehen.\n",
    "\n"
   ]
  },
  {
   "cell_type": "code",
   "execution_count": 1,
   "id": "0bf70197",
   "metadata": {},
   "outputs": [],
   "source": [
    "import re"
   ]
  },
  {
   "cell_type": "markdown",
   "id": "71f85ce2",
   "metadata": {},
   "source": [
    "Wir definieren zunächst einen String mit dem Namen \"en\"."
   ]
  },
  {
   "cell_type": "code",
   "execution_count": 2,
   "id": "6ddcfcbf",
   "metadata": {},
   "outputs": [],
   "source": [
    "en = \"He doesn't sleep.\"\n"
   ]
  },
  {
   "cell_type": "markdown",
   "id": "f1c4fbe7",
   "metadata": {},
   "source": [
    "Im Folgenden sollen Sie Operationen auf dem String definieren, die einen bestimmten Output erzeugen.\n",
    "\n",
    "Füllen Sie die Stellen, an denen ... steht, mit einem Python-Befehl, der den vorgegeben Output erzeugt."
   ]
  },
  {
   "cell_type": "markdown",
   "id": "008bcfca",
   "metadata": {},
   "source": [
    "### Länge eines Strings"
   ]
  },
  {
   "cell_type": "code",
   "execution_count": 4,
   "id": "5b68ddd5",
   "metadata": {},
   "outputs": [
    {
     "data": {
      "text/plain": [
       "17"
      ]
     },
     "execution_count": 4,
     "metadata": {},
     "output_type": "execute_result"
    }
   ],
   "source": [
    "### Länge des Strings en bestimmen\n",
    "# output: 17\n",
    "..."
   ]
  },
  {
   "cell_type": "markdown",
   "id": "54f632a4",
   "metadata": {},
   "source": [
    "### Indizieren, Slicen und Verketten"
   ]
  },
  {
   "cell_type": "code",
   "execution_count": 5,
   "id": "4e45b0b7",
   "metadata": {},
   "outputs": [
    {
     "data": {
      "text/plain": [
       "\"doesn't\""
      ]
     },
     "execution_count": 5,
     "metadata": {},
     "output_type": "execute_result"
    }
   ],
   "source": [
    "# String en indizieren\n",
    "# output: \"doesn't\"\n",
    "en1 = ...\n",
    "en1"
   ]
  },
  {
   "cell_type": "code",
   "execution_count": 6,
   "id": "245ead62",
   "metadata": {},
   "outputs": [
    {
     "data": {
      "text/plain": [
       "'He does sleep.'"
      ]
     },
     "execution_count": 6,
     "metadata": {},
     "output_type": "execute_result"
    }
   ],
   "source": [
    "# Indizieren und Verkettung auf String en anwenden \n",
    "# output: 'He does sleep.'\n",
    "en2 = ...\n",
    "en2"
   ]
  },
  {
   "cell_type": "code",
   "execution_count": 7,
   "id": "5d773b44",
   "metadata": {},
   "outputs": [
    {
     "data": {
      "text/plain": [
       "\"He does n't sleep .\""
      ]
     },
     "execution_count": 7,
     "metadata": {},
     "output_type": "execute_result"
    }
   ],
   "source": [
    "# Indizieren und Verkettung auf String en anwenden \n",
    "# output: 'He does n't sleep .'\n",
    "\n",
    "en3 = ...\n",
    "en3"
   ]
  },
  {
   "cell_type": "markdown",
   "id": "1ecb2442",
   "metadata": {},
   "source": [
    "### Splitten"
   ]
  },
  {
   "cell_type": "code",
   "execution_count": 8,
   "id": "33a4c73e",
   "metadata": {},
   "outputs": [
    {
     "data": {
      "text/plain": [
       "['He', \"doesn't\", 'sleep.']"
      ]
     },
     "execution_count": 8,
     "metadata": {},
     "output_type": "execute_result"
    }
   ],
   "source": [
    "# Den String en auf eine bestimmte Weise splitten\n",
    "# output: ['He', \"doesn't\", 'sleep.']\n",
    "..."
   ]
  },
  {
   "cell_type": "code",
   "execution_count": 9,
   "id": "731a9f6c",
   "metadata": {},
   "outputs": [
    {
     "data": {
      "text/plain": [
       "[\"He doesn't sleep\", '']"
      ]
     },
     "execution_count": 9,
     "metadata": {},
     "output_type": "execute_result"
    }
   ],
   "source": [
    "# Den String en auf eine bestimmte Weise splitten\n",
    "# output: [\"He doesn't sleep\", '']\n",
    "..."
   ]
  },
  {
   "cell_type": "code",
   "execution_count": 10,
   "id": "803fc306",
   "metadata": {},
   "outputs": [
    {
     "data": {
      "text/plain": [
       "['H', ' do', \"sn't sl\", '', 'p.']"
      ]
     },
     "execution_count": 10,
     "metadata": {},
     "output_type": "execute_result"
    }
   ],
   "source": [
    "# Den String en auf eine bestimmte Weise splitten\n",
    "# output: ['H', ' do', \"sn't sl\", '', 'p.']\n",
    "..."
   ]
  },
  {
   "cell_type": "code",
   "execution_count": 11,
   "id": "5d811fdc",
   "metadata": {},
   "outputs": [
    {
     "data": {
      "text/plain": [
       "['H', \"doesn't sleep.\"]"
      ]
     },
     "execution_count": 11,
     "metadata": {},
     "output_type": "execute_result"
    }
   ],
   "source": [
    "# Den String en auf eine bestimmte Weise splitten\n",
    "# output: ['H', \"doesn't sleep.\"]\n",
    "..."
   ]
  },
  {
   "cell_type": "code",
   "execution_count": 12,
   "id": "2b4a5a33",
   "metadata": {},
   "outputs": [
    {
     "data": {
      "text/plain": [
       "3"
      ]
     },
     "execution_count": 12,
     "metadata": {},
     "output_type": "execute_result"
    }
   ],
   "source": [
    "# Den String en auf eine bestimmte Weise splitten\n",
    "# ... und die Länge der Ergebnisliste bestimmen\n",
    "# output: ['H', \"doesn't sleep.\"]\n",
    "# output: 3\n",
    "..."
   ]
  },
  {
   "cell_type": "markdown",
   "id": "00e14087",
   "metadata": {},
   "source": [
    "### Reguläre Ausdrücke"
   ]
  },
  {
   "cell_type": "code",
   "execution_count": 13,
   "id": "d4e81705",
   "metadata": {},
   "outputs": [],
   "source": [
    "en4 = \"He    doesn't   \\nsleep.\""
   ]
  },
  {
   "cell_type": "code",
   "execution_count": 14,
   "id": "c6592ac3",
   "metadata": {},
   "outputs": [
    {
     "data": {
      "text/plain": [
       "['He', \"doesn't\", '\\nsleep.']"
      ]
     },
     "execution_count": 14,
     "metadata": {},
     "output_type": "execute_result"
    }
   ],
   "source": [
    "# Auch mit regulären Ausdrücken können wir Strings splitten\n",
    "# Was ist der Unterschied zwischen: en4.split(\" \")\n",
    "# ... folgendem Ausdruck?\n",
    "re.split(\" +\",en4)\n",
    "\n",
    "# Antwort als Text: ..."
   ]
  },
  {
   "cell_type": "code",
   "execution_count": null,
   "id": "f6a18869",
   "metadata": {},
   "outputs": [],
   "source": [
    "# re.split(\" +\",en4)\n",
    "# ... wie kann man den regex hier so ändern, dass auch beim Zeilenumbruch gesplittet wird?\n",
    "..."
   ]
  },
  {
   "cell_type": "code",
   "execution_count": 17,
   "id": "a3e9c015",
   "metadata": {},
   "outputs": [
    {
     "data": {
      "text/plain": [
       "['He', \"doesn't\", 'sleep']"
      ]
     },
     "execution_count": 17,
     "metadata": {},
     "output_type": "execute_result"
    }
   ],
   "source": [
    "# Was ist der Unterschied zwischen split und findall?\n",
    "# Was gibt der folgende Ausdruck für einen Output?\n",
    "# re.findall(\"[\\w]+\",en4)\n",
    "\n",
    "# wie muss man den regex anpassen, damit doesn't als ganzes Token gefunden wird?\n",
    "# output: ['He', \"doesn't\", 'sleep']\n",
    "..."
   ]
  }
 ],
 "metadata": {
  "kernelspec": {
   "display_name": "Python 3",
   "language": "python",
   "name": "python3"
  },
  "language_info": {
   "codemirror_mode": {
    "name": "ipython",
    "version": 3
   },
   "file_extension": ".py",
   "mimetype": "text/x-python",
   "name": "python",
   "nbconvert_exporter": "python",
   "pygments_lexer": "ipython3",
   "version": "3.8.8"
  }
 },
 "nbformat": 4,
 "nbformat_minor": 5
}

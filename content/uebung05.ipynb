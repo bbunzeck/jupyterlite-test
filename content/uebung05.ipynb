{
 "cells": [
  {
   "cell_type": "markdown",
   "id": "2b89319b",
   "metadata": {},
   "source": [
    "# Übung 5\n",
    "\n",
    "In dieser Übung geht es darum, den Umgang mit regulären Ausdrücken einzuüben. Dies können Sie entweder in diesem Jupyter-Notebook oder über die Webseite https://regexr.com/ tun. \n",
    "\n",
    "Falls Sie das Jupyter-Notebook benutzen, erhalte Sie hier eine kurze Einführung:"
   ]
  },
  {
   "cell_type": "code",
   "execution_count": 1,
   "id": "5d9066ec",
   "metadata": {},
   "outputs": [],
   "source": [
    "import re # das regex-Modul wird importiert"
   ]
  },
  {
   "cell_type": "code",
   "execution_count": 3,
   "id": "87546092",
   "metadata": {},
   "outputs": [],
   "source": [
    "satz_test = \"Ich habe ein Opossum.\" # der zu untersuchende Satz wird \n",
    "                                    # in einer Variable als Zeichenkette (string) gespeichert"
   ]
  },
  {
   "cell_type": "code",
   "execution_count": 7,
   "id": "d7ae0c8b",
   "metadata": {},
   "outputs": [
    {
     "data": {
      "text/plain": [
       "['Ich', 'Opossum']"
      ]
     },
     "execution_count": 7,
     "metadata": {},
     "output_type": "execute_result"
    }
   ],
   "source": [
    "re.findall(\"[A-Z]\\w*\",satz_test) # Die Funktion re.findall bekommt in Klammern als erstes Argument\n",
    "                                 # den regulären Ausdruck als Zeichenkette (string), als zweites\n",
    "                                 # den zu untersuchenden Satz."
   ]
  },
  {
   "cell_type": "markdown",
   "id": "bd8aced1",
   "metadata": {},
   "source": [
    "## Aufgabe 1 \n",
    "\n",
    "Finden Sie zu den zusammen gehörenden Sätzen und gefundenen Elementen die zugehörige Regel und beschreiben Sie kurz umgangssprachlich, was in der Regel passiert!"
   ]
  },
  {
   "cell_type": "code",
   "execution_count": 8,
   "id": "3722f6fa",
   "metadata": {},
   "outputs": [],
   "source": [
    "# 1.\n",
    "satz1 = 'Am 26.10.2023 findet in H10 die 3. Vorlesung \"Einführung in die Computerlinguistik\" statt.'"
   ]
  },
  {
   "cell_type": "code",
   "execution_count": 9,
   "id": "6d391636",
   "metadata": {},
   "outputs": [
    {
     "data": {
      "text/plain": [
       "['26', '10', '2023', '10', '3']"
      ]
     },
     "execution_count": 9,
     "metadata": {},
     "output_type": "execute_result"
    }
   ],
   "source": [
    "# 1.1\n",
    "# output: ['26', '10', '2023', '10', '3']\n",
    "re.findall(\"HIER REGEX EINFÜGEN\",satz1)"
   ]
  },
  {
   "cell_type": "code",
   "execution_count": 10,
   "id": "501d9f7b",
   "metadata": {},
   "outputs": [
    {
     "data": {
      "text/plain": [
       "['26.', '10.', '3.']"
      ]
     },
     "execution_count": 10,
     "metadata": {},
     "output_type": "execute_result"
    }
   ],
   "source": [
    "# 1.2\n",
    "# output: ['26.', '10.', '3.']\n",
    "re.findall(\"HIER REGEX EINFÜGEN\",satz1)"
   ]
  },
  {
   "cell_type": "code",
   "execution_count": 11,
   "id": "f4bbbcdc",
   "metadata": {},
   "outputs": [
    {
     "data": {
      "text/plain": [
       "['26.', '10.', '2023', '10', '3.']"
      ]
     },
     "execution_count": 11,
     "metadata": {},
     "output_type": "execute_result"
    }
   ],
   "source": [
    "# 1.3\n",
    "# output: ['26.', '10.', '2023', '10', '3.']\n",
    "re.findall(\"HIER REGEX EINFÜGEN\",satz1)"
   ]
  },
  {
   "cell_type": "code",
   "execution_count": 12,
   "id": "0629869e",
   "metadata": {},
   "outputs": [
    {
     "data": {
      "text/plain": [
       "['26.10.2023', '10', '3.']"
      ]
     },
     "execution_count": 12,
     "metadata": {},
     "output_type": "execute_result"
    }
   ],
   "source": [
    "# 1.4\n",
    "# output: ['26.10.2023', '10', '3.']\n",
    "re.findall(\"HIER REGEX EINFÜGEN\",satz1)"
   ]
  },
  {
   "cell_type": "code",
   "execution_count": 13,
   "id": "55f42278",
   "metadata": {},
   "outputs": [
    {
     "data": {
      "text/plain": [
       "['26.10.2023', 'H10', '3.']"
      ]
     },
     "execution_count": 13,
     "metadata": {},
     "output_type": "execute_result"
    }
   ],
   "source": [
    "# 1.5\n",
    "# output: ['26.10.2023', 'H10', '3.']\n",
    "re.findall(\"HIER REGEX EINFÜGEN\",satz1)"
   ]
  },
  {
   "cell_type": "code",
   "execution_count": 14,
   "id": "949fc517",
   "metadata": {},
   "outputs": [],
   "source": [
    "# 2.\n",
    "satz2 = 'Am 26.10.2023 findet in H10 die 3. Vorlesung \"Einführung in die Computerlinguistik\" statt, und dann noch einmal für Informatik-Studierende am 31.10. in X-E0-128.'"
   ]
  },
  {
   "cell_type": "code",
   "execution_count": 15,
   "id": "113e31ff",
   "metadata": {},
   "outputs": [
    {
     "data": {
      "text/plain": [
       "['X-E0-128']"
      ]
     },
     "execution_count": 15,
     "metadata": {},
     "output_type": "execute_result"
    }
   ],
   "source": [
    "# 2.1\n",
    "# output: ['X-E0-128']\n",
    "re.findall(r\"HIER REGEX EINFÜGEN\",satz2)"
   ]
  },
  {
   "cell_type": "code",
   "execution_count": 16,
   "id": "293ae3ff",
   "metadata": {},
   "outputs": [
    {
     "data": {
      "text/plain": [
       "['26.10.2023', 'H10', '31.10.', 'X-E0-128.']"
      ]
     },
     "execution_count": 16,
     "metadata": {},
     "output_type": "execute_result"
    }
   ],
   "source": [
    "# 2.2\n",
    "# output: ['26.10.2023', 'H10', '31.10.', 'X-E0-128.']\n",
    "re.findall(r\"HIER REGEX EINFÜGEN\",satz2)"
   ]
  },
  {
   "cell_type": "code",
   "execution_count": 17,
   "id": "8e9b108e",
   "metadata": {},
   "outputs": [
    {
     "data": {
      "text/plain": [
       "['findet',\n",
       " 'in',\n",
       " 'die',\n",
       " 'in',\n",
       " 'die',\n",
       " 'statt',\n",
       " 'und',\n",
       " 'dann',\n",
       " 'noch',\n",
       " 'einmal',\n",
       " 'für',\n",
       " 'am',\n",
       " 'in']"
      ]
     },
     "execution_count": 17,
     "metadata": {},
     "output_type": "execute_result"
    }
   ],
   "source": [
    "# 2.3\n",
    "''' output: ['findet',\n",
    " 'in',\n",
    " 'die',\n",
    " 'in',\n",
    " 'die',\n",
    " 'statt',\n",
    " 'und',\n",
    " 'dann',\n",
    " 'noch',\n",
    " 'einmal',\n",
    " 'für',\n",
    " 'am',\n",
    " 'in'] '''\n",
    "re.findall(r\"HIER REGEX EINFÜGEN\",satz2)"
   ]
  },
  {
   "cell_type": "markdown",
   "id": "2c67e536",
   "metadata": {},
   "source": [
    "# Aufgabe 2"
   ]
  },
  {
   "cell_type": "markdown",
   "id": "71342b5c",
   "metadata": {},
   "source": [
    "Die Liste \"Tokens\" definiert ein Minikorpus, in dem die Wörter (Typen) \"a\", \"b\", \"c\" und \"d\" vorkommen. Erstellen Sie (manuell oder mithilfe von Python) eine nach Frequenz sortierte Wort-Frequenz-Tabelle und stellen Sie die Beziehung zwischen Rang in der sortierten Liste und Frequenz graphisch dar. Handelt es sich um ein Zipfsche Verteilung?"
   ]
  },
  {
   "cell_type": "code",
   "execution_count": null,
   "id": "81e3f47b",
   "metadata": {},
   "outputs": [],
   "source": [
    "tokens = ['a', 'a', 'b', 'c', 'b', 'c', 'a', 'a', 'd', 'c', 'b',\\\n",
    "          'c', 'd', 'b', 'c', 'a', 'd', 'c']"
   ]
  }
 ],
 "metadata": {
  "kernelspec": {
   "display_name": "Python 3",
   "language": "python",
   "name": "python3"
  },
  "language_info": {
   "codemirror_mode": {
    "name": "ipython",
    "version": 3
   },
   "file_extension": ".py",
   "mimetype": "text/x-python",
   "name": "python",
   "nbconvert_exporter": "python",
   "pygments_lexer": "ipython3",
   "version": "3.8.8"
  }
 },
 "nbformat": 4,
 "nbformat_minor": 5
}

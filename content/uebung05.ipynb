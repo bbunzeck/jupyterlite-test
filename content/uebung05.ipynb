{
  "metadata": {
    "language_info": {
      "codemirror_mode": {
        "name": "python",
        "version": 3
      },
      "file_extension": ".py",
      "mimetype": "text/x-python",
      "name": "python",
      "nbconvert_exporter": "python",
      "pygments_lexer": "ipython3",
      "version": "3.8"
    },
    "kernelspec": {
      "name": "python",
      "display_name": "Python (Pyodide)",
      "language": "python"
    }
  },
  "nbformat_minor": 4,
  "nbformat": 4,
  "cells": [
    {
      "cell_type": "code",
      "source": "import matplotlib\nfrom collections import Counter\nimport pandas as pd",
      "metadata": {
        "trusted": true
      },
      "execution_count": 21,
      "outputs": []
    },
    {
      "cell_type": "markdown",
      "source": "Hier den Text einfügen:",
      "metadata": {}
    },
    {
      "cell_type": "code",
      "source": "text = \"\"\"\nPeter möchte ein Textminingverfahren entwickeln, das automatisch sogenannte \"keywords\" oder Schlüsselwörter aus den Texten eines Korpus extrahiert. Diese Schlüsselwörter sollen die wichtigen Themen oder Konzepte, die im Korpus vorkommen, repräsentieren. Wie könnte man mit den Verfahren aus der letzten Sitzung einen Ansatz für die Extraktion von Schlüsselwörter aufbauen? Skizzieren Sie das Vorgehen möglichst genau also Abfolge von Verarbeitungsschritten (Algorithmus)!\n\"\"\"",
      "metadata": {
        "trusted": true
      },
      "execution_count": 22,
      "outputs": []
    },
    {
      "cell_type": "markdown",
      "source": "Als Vorverarbeitungsschritt setzen wir alles auf lowercase:",
      "metadata": {}
    },
    {
      "cell_type": "code",
      "source": "text = text.lower()",
      "metadata": {
        "trusted": true
      },
      "execution_count": 23,
      "outputs": []
    },
    {
      "cell_type": "markdown",
      "source": "Naive Tokenisierung mit Splitting auf den Whitespaces:",
      "metadata": {}
    },
    {
      "cell_type": "code",
      "source": "words = text.split()",
      "metadata": {
        "trusted": true
      },
      "execution_count": 24,
      "outputs": []
    },
    {
      "cell_type": "markdown",
      "source": "Wie viele Tokens haben wir?",
      "metadata": {}
    },
    {
      "cell_type": "code",
      "source": "len(words)",
      "metadata": {
        "trusted": true
      },
      "execution_count": 40,
      "outputs": [
        {
          "execution_count": 40,
          "output_type": "execute_result",
          "data": {
            "text/plain": "59"
          },
          "metadata": {}
        }
      ]
    },
    {
      "cell_type": "markdown",
      "source": "Und wie viele Types?",
      "metadata": {}
    },
    {
      "cell_type": "code",
      "source": "types = Counter()",
      "metadata": {
        "trusted": true
      },
      "execution_count": 26,
      "outputs": []
    },
    {
      "cell_type": "code",
      "source": "types.update(words)",
      "metadata": {
        "trusted": true
      },
      "execution_count": 27,
      "outputs": []
    },
    {
      "cell_type": "code",
      "source": "types",
      "metadata": {
        "trusted": true
      },
      "execution_count": 28,
      "outputs": [
        {
          "execution_count": 28,
          "output_type": "execute_result",
          "data": {
            "text/plain": "Counter({'schlüsselwörter': 3,\n         'die': 3,\n         'das': 2,\n         'oder': 2,\n         'aus': 2,\n         'den': 2,\n         'korpus': 2,\n         'von': 2,\n         'peter': 1,\n         'möchte': 1,\n         'ein': 1,\n         'textminingverfahren': 1,\n         'entwickeln,': 1,\n         'automatisch': 1,\n         'sogenannte': 1,\n         '\"keywords\"': 1,\n         'texten': 1,\n         'eines': 1,\n         'extrahiert.': 1,\n         'diese': 1,\n         'sollen': 1,\n         'wichtigen': 1,\n         'themen': 1,\n         'konzepte,': 1,\n         'im': 1,\n         'vorkommen,': 1,\n         'repräsentieren.': 1,\n         'wie': 1,\n         'könnte': 1,\n         'man': 1,\n         'mit': 1,\n         'verfahren': 1,\n         'der': 1,\n         'letzten': 1,\n         'sitzung': 1,\n         'einen': 1,\n         'ansatz': 1,\n         'für': 1,\n         'extraktion': 1,\n         'aufbauen?': 1,\n         'skizzieren': 1,\n         'sie': 1,\n         'vorgehen': 1,\n         'möglichst': 1,\n         'genau': 1,\n         'also': 1,\n         'abfolge': 1,\n         'verarbeitungsschritten': 1,\n         '(algorithmus)!': 1})"
          },
          "metadata": {}
        }
      ]
    },
    {
      "cell_type": "code",
      "source": "len(types)",
      "metadata": {
        "trusted": true
      },
      "execution_count": 34,
      "outputs": [
        {
          "execution_count": 34,
          "output_type": "execute_result",
          "data": {
            "text/plain": "49"
          },
          "metadata": {}
        }
      ]
    },
    {
      "cell_type": "markdown",
      "source": "Plotten:",
      "metadata": {}
    },
    {
      "cell_type": "code",
      "source": "type_df = pd.DataFrame(types.most_common(),columns=[\"type\",\"freq\"])",
      "metadata": {
        "trusted": true
      },
      "execution_count": 29,
      "outputs": []
    },
    {
      "cell_type": "code",
      "source": "type_df.plot()",
      "metadata": {
        "trusted": true
      },
      "execution_count": 37,
      "outputs": [
        {
          "execution_count": 37,
          "output_type": "execute_result",
          "data": {
            "text/plain": "<AxesSubplot:>"
          },
          "metadata": {}
        },
        {
          "output_type": "display_data",
          "data": {
            "text/plain": "<Figure size 640x480 with 1 Axes>",
            "image/png": "[encoded data removed]"
          },
          "metadata": {}
        }
      ]
    },
    {
      "cell_type": "code",
      "source": "",
      "metadata": {},
      "execution_count": null,
      "outputs": []
    }
  ]
}